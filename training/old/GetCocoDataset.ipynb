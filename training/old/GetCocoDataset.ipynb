{
 "cells": [
  {
   "cell_type": "code",
   "execution_count": 2,
   "metadata": {},
   "outputs": [],
   "source": [
    "from pycocotools.coco import COCO\n",
    "import os\n",
    "import shutil"
   ]
  },
  {
   "cell_type": "code",
   "execution_count": 3,
   "metadata": {},
   "outputs": [
    {
     "name": "stdout",
     "output_type": "stream",
     "text": [
      "loading annotations into memory...\n",
      "Done (t=10.97s)\n",
      "creating index...\n",
      "index created!\n",
      "Copied 0 images.\n"
     ]
    }
   ],
   "source": [
    "# Paths to COCO files\n",
    "ann_file = '/home/tori/YOLO/annotations_trainval2017/annotations/instances_train2017.json'\n",
    "img_dir = 'trial/'\n",
    "\n",
    "\n",
    "# Output directories\n",
    "output_dir = 'path/to/output'\n",
    "os.makedirs(output_dir, exist_ok=True)\n",
    "\n",
    "# Load COCO annotations\n",
    "coco = COCO(ann_file)\n",
    "\n",
    "# Define the categories you want\n",
    "category_ids = coco.getCatIds(catNms=['cat','dog','skateboard'])\n",
    "\n",
    "# Get all image IDs containing the desired categories\n",
    "img_ids = coco.getImgIds(catIds=category_ids)\n",
    "selected_images = coco.loadImgs(img_ids)\n",
    "\n",
    "# Copy selected images\n",
    "for img in selected_images:\n",
    "    src_path = os.path.join(img_dir, img['file_name'])\n",
    "    dest_path = os.path.join(output_dir, img['file_name'])\n",
    "    if os.path.exists(src_path):\n",
    "        shutil.copy(src_path, dest_path)\n",
    "print(f\"Copied {len(selected_images)} images.\")\n"
   ]
  },
  {
   "cell_type": "code",
   "execution_count": 8,
   "metadata": {},
   "outputs": [
    {
     "data": {
      "text/plain": [
       "[]"
      ]
     },
     "execution_count": 8,
     "metadata": {},
     "output_type": "execute_result"
    }
   ],
   "source": [
    "img_ids = coco.getCatIds(catIds=['10'])\n",
    "img_ids"
   ]
  },
  {
   "cell_type": "code",
   "execution_count": null,
   "metadata": {},
   "outputs": [],
   "source": [
    "import json\n",
    "from pathlib import Path\n",
    "\n",
    "# Output paths for YOLO labels\n",
    "yolo_labels_dir = Path(output_dir) / 'labels'\n",
    "yolo_labels_dir.mkdir(parents=True, exist_ok=True)\n",
    "\n",
    "# Function to convert COCO format to YOLO\n",
    "def convert_coco_to_yolo(coco, img_ids, output_path):\n",
    "    for img_id in img_ids:\n",
    "        img_info = coco.loadImgs([img_id])[0]\n",
    "        ann_ids = coco.getAnnIds(imgIds=[img_id])\n",
    "        annotations = coco.loadAnns(ann_ids)\n",
    "\n",
    "        # Prepare YOLO format label\n",
    "        label_file = (yolo_labels_dir / f\"{Path(img_info['file_name']).stem}.txt\")\n",
    "        with open(label_file, 'w') as f:\n",
    "            for ann in annotations:\n",
    "                category_id = ann['category_id'] - 1  # YOLO uses 0-indexed class IDs\n",
    "                bbox = ann['bbox']\n",
    "                segmentation = ann['segmentation']\n",
    "\n",
    "                # Convert bbox to YOLO format\n",
    "                x, y, w, h = bbox\n",
    "                cx = x + w / 2\n",
    "                cy = y + h / 2\n",
    "                yolo_bbox = [cx / img_info['width'], cy / img_info['height'], w / img_info['width'], h / img_info['height']]\n",
    "\n",
    "                # Write detection line\n",
    "                f.write(f\"{category_id} \" + \" \".join(map(str, yolo_bbox)) + \"\\n\")\n",
    "\n",
    "                # If segmentation exists, append the polygons (optional)\n",
    "                if isinstance(segmentation, list):  # Polygons\n",
    "                    for segment in segmentation:\n",
    "                        segment = [str(coord / (img_info['width'] if i % 2 == 0 else img_info['height'])) for i, coord in enumerate(segment)]\n",
    "                        f.write(f\"# Seg: {' '.join(segment)}\\n\")\n",
    "        print(f\"Saved labels for {img_info['file_name']}\")\n",
    "\n",
    "# Convert annotations\n",
    "convert_coco_to_yolo(coco, img_ids, yolo_labels_dir)\n",
    "\n"
   ]
  }
 ],
 "metadata": {
  "kernelspec": {
   "display_name": "Python 3",
   "language": "python",
   "name": "python3"
  },
  "language_info": {
   "codemirror_mode": {
    "name": "ipython",
    "version": 3
   },
   "file_extension": ".py",
   "mimetype": "text/x-python",
   "name": "python",
   "nbconvert_exporter": "python",
   "pygments_lexer": "ipython3",
   "version": "3.8.10"
  }
 },
 "nbformat": 4,
 "nbformat_minor": 2
}
